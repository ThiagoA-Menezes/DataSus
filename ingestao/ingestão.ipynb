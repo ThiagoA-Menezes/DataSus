{
 "cells": [
  {
   "cell_type": "markdown",
   "metadata": {},
   "source": [
    "# Começando novamente o Jupyter porque o anterior possuia um problema quando baixávamos os arquivos do DataSus."
   ]
  },
  {
   "cell_type": "code",
   "execution_count": 34,
   "metadata": {},
   "outputs": [],
   "source": [
    "# Importando as bibliotecas\n",
    "# Installing libraries.\n",
    "\n",
    "import urllib.request\n",
    "import os\n",
    "from tqdm import tqdm\n"
   ]
  },
  {
   "cell_type": "code",
   "execution_count": 17,
   "metadata": {},
   "outputs": [
    {
     "data": {
      "text/plain": [
       "['.git', 'RDTO2301.dbc']"
      ]
     },
     "execution_count": 17,
     "metadata": {},
     "output_type": "execute_result"
    }
   ],
   "source": [
    "# Salvando os arquivos em um diretório local\n",
    "# Setting where the files will be saved\n",
    "# RD Siginifica que estamos pegando a lista reduzida do Datasus\n",
    "\n",
    "## Nessa primeira etapa estamos fazendo os testes para verificar se \n",
    "## conseguimos salvar o arquivo no path selecionado.\n",
    "## ao final, aqui listamos o que temos no diretório.\n",
    "\n",
    "url = f\"ftp://ftp.datasus.gov.br/dissemin/publicos/SIHSUS/200801_/Dados/RDTO2301.dbc\"\n",
    "\n",
    "file = f\"P:/Python - Projetos/Datasus/rd/dbc/RDTO2301.dbc\"\n",
    "\n",
    "urllib.request.urlretrieve(url, file)\n",
    "\n",
    "os.listdir(\"P:/Python - Projetos/Datasus/rd/dbc/\")"
   ]
  },
  {
   "cell_type": "code",
   "execution_count": 36,
   "metadata": {},
   "outputs": [
    {
     "name": "stdout",
     "output_type": "stream",
     "text": [
      "AC\n"
     ]
    },
    {
     "name": "stderr",
     "output_type": "stream",
     "text": [
      "100%|██████████| 3/3 [00:01<00:00,  2.92it/s]\n"
     ]
    },
    {
     "name": "stdout",
     "output_type": "stream",
     "text": [
      "AL\n"
     ]
    },
    {
     "name": "stderr",
     "output_type": "stream",
     "text": [
      "100%|██████████| 3/3 [00:01<00:00,  1.84it/s]\n"
     ]
    },
    {
     "name": "stdout",
     "output_type": "stream",
     "text": [
      "AP\n"
     ]
    },
    {
     "name": "stderr",
     "output_type": "stream",
     "text": [
      "100%|██████████| 3/3 [00:01<00:00,  2.69it/s]\n"
     ]
    },
    {
     "name": "stdout",
     "output_type": "stream",
     "text": [
      "AM\n"
     ]
    },
    {
     "name": "stderr",
     "output_type": "stream",
     "text": [
      "100%|██████████| 3/3 [00:01<00:00,  1.88it/s]\n"
     ]
    },
    {
     "name": "stdout",
     "output_type": "stream",
     "text": [
      "BA\n"
     ]
    },
    {
     "name": "stderr",
     "output_type": "stream",
     "text": [
      "100%|██████████| 3/3 [00:03<00:00,  1.31s/it]\n"
     ]
    },
    {
     "name": "stdout",
     "output_type": "stream",
     "text": [
      "CE\n"
     ]
    },
    {
     "name": "stderr",
     "output_type": "stream",
     "text": [
      "100%|██████████| 3/3 [00:02<00:00,  1.03it/s]\n"
     ]
    },
    {
     "name": "stdout",
     "output_type": "stream",
     "text": [
      "DF\n"
     ]
    },
    {
     "name": "stderr",
     "output_type": "stream",
     "text": [
      "100%|██████████| 3/3 [00:01<00:00,  1.80it/s]\n"
     ]
    },
    {
     "name": "stdout",
     "output_type": "stream",
     "text": [
      "ES\n"
     ]
    },
    {
     "name": "stderr",
     "output_type": "stream",
     "text": [
      "100%|██████████| 3/3 [00:02<00:00,  1.03it/s]\n"
     ]
    },
    {
     "name": "stdout",
     "output_type": "stream",
     "text": [
      "GO\n"
     ]
    },
    {
     "name": "stderr",
     "output_type": "stream",
     "text": [
      "100%|██████████| 3/3 [00:01<00:00,  1.67it/s]\n"
     ]
    },
    {
     "name": "stdout",
     "output_type": "stream",
     "text": [
      "MA\n"
     ]
    },
    {
     "name": "stderr",
     "output_type": "stream",
     "text": [
      "100%|██████████| 3/3 [00:02<00:00,  1.25it/s]\n"
     ]
    },
    {
     "name": "stdout",
     "output_type": "stream",
     "text": [
      "MT\n"
     ]
    },
    {
     "name": "stderr",
     "output_type": "stream",
     "text": [
      "100%|██████████| 3/3 [00:01<00:00,  1.55it/s]\n"
     ]
    },
    {
     "name": "stdout",
     "output_type": "stream",
     "text": [
      "MS\n"
     ]
    },
    {
     "name": "stderr",
     "output_type": "stream",
     "text": [
      "100%|██████████| 3/3 [00:02<00:00,  1.37it/s]\n"
     ]
    },
    {
     "name": "stdout",
     "output_type": "stream",
     "text": [
      "MG\n"
     ]
    },
    {
     "name": "stderr",
     "output_type": "stream",
     "text": [
      "100%|██████████| 3/3 [00:07<00:00,  2.43s/it]\n"
     ]
    },
    {
     "name": "stdout",
     "output_type": "stream",
     "text": [
      "PA\n"
     ]
    },
    {
     "name": "stderr",
     "output_type": "stream",
     "text": [
      "100%|██████████| 3/3 [00:02<00:00,  1.26it/s]\n"
     ]
    },
    {
     "name": "stdout",
     "output_type": "stream",
     "text": [
      "PB\n"
     ]
    },
    {
     "name": "stderr",
     "output_type": "stream",
     "text": [
      "100%|██████████| 3/3 [00:03<00:00,  1.04s/it]\n"
     ]
    },
    {
     "name": "stdout",
     "output_type": "stream",
     "text": [
      "PR\n"
     ]
    },
    {
     "name": "stderr",
     "output_type": "stream",
     "text": [
      "100%|██████████| 3/3 [00:03<00:00,  1.07s/it]\n"
     ]
    },
    {
     "name": "stdout",
     "output_type": "stream",
     "text": [
      "PE\n"
     ]
    },
    {
     "name": "stderr",
     "output_type": "stream",
     "text": [
      "100%|██████████| 3/3 [00:05<00:00,  1.82s/it]\n"
     ]
    },
    {
     "name": "stdout",
     "output_type": "stream",
     "text": [
      "PI\n"
     ]
    },
    {
     "name": "stderr",
     "output_type": "stream",
     "text": [
      "100%|██████████| 3/3 [00:02<00:00,  1.46it/s]\n"
     ]
    },
    {
     "name": "stdout",
     "output_type": "stream",
     "text": [
      "RJ\n"
     ]
    },
    {
     "name": "stderr",
     "output_type": "stream",
     "text": [
      "100%|██████████| 3/3 [00:07<00:00,  2.51s/it]\n"
     ]
    },
    {
     "name": "stdout",
     "output_type": "stream",
     "text": [
      "RN\n"
     ]
    },
    {
     "name": "stderr",
     "output_type": "stream",
     "text": [
      "100%|██████████| 3/3 [00:01<00:00,  2.13it/s]\n"
     ]
    },
    {
     "name": "stdout",
     "output_type": "stream",
     "text": [
      "RS\n"
     ]
    },
    {
     "name": "stderr",
     "output_type": "stream",
     "text": [
      "100%|██████████| 3/3 [00:08<00:00,  2.97s/it]\n"
     ]
    },
    {
     "name": "stdout",
     "output_type": "stream",
     "text": [
      "RO\n"
     ]
    },
    {
     "name": "stderr",
     "output_type": "stream",
     "text": [
      "100%|██████████| 3/3 [00:01<00:00,  1.64it/s]\n"
     ]
    },
    {
     "name": "stdout",
     "output_type": "stream",
     "text": [
      "RR\n"
     ]
    },
    {
     "name": "stderr",
     "output_type": "stream",
     "text": [
      "100%|██████████| 3/3 [00:03<00:00,  1.33s/it]\n"
     ]
    },
    {
     "name": "stdout",
     "output_type": "stream",
     "text": [
      "SC\n"
     ]
    },
    {
     "name": "stderr",
     "output_type": "stream",
     "text": [
      "100%|██████████| 3/3 [00:04<00:00,  1.55s/it]\n"
     ]
    },
    {
     "name": "stdout",
     "output_type": "stream",
     "text": [
      "SP\n"
     ]
    },
    {
     "name": "stderr",
     "output_type": "stream",
     "text": [
      "100%|██████████| 3/3 [00:18<00:00,  6.23s/it]\n"
     ]
    },
    {
     "name": "stdout",
     "output_type": "stream",
     "text": [
      "SE\n"
     ]
    },
    {
     "name": "stderr",
     "output_type": "stream",
     "text": [
      "100%|██████████| 3/3 [00:01<00:00,  2.73it/s]\n"
     ]
    },
    {
     "name": "stdout",
     "output_type": "stream",
     "text": [
      "TO\n"
     ]
    },
    {
     "name": "stderr",
     "output_type": "stream",
     "text": [
      "100%|██████████| 3/3 [00:01<00:00,  2.85it/s]\n"
     ]
    },
    {
     "data": {
      "text/plain": [
       "['.git',\n",
       " 'RDAC2301.dbc',\n",
       " 'RDAC2302.dbc',\n",
       " 'RDAC2303.dbc',\n",
       " 'RDAL2301.dbc',\n",
       " 'RDAL2302.dbc',\n",
       " 'RDAL2303.dbc',\n",
       " 'RDAM2301.dbc',\n",
       " 'RDAM2302.dbc',\n",
       " 'RDAM2303.dbc',\n",
       " 'RDAP2301.dbc',\n",
       " 'RDAP2302.dbc',\n",
       " 'RDAP2303.dbc',\n",
       " 'RDBA2301.dbc',\n",
       " 'RDBA2302.dbc',\n",
       " 'RDBA2303.dbc',\n",
       " 'RDCE2301.dbc',\n",
       " 'RDCE2302.dbc',\n",
       " 'RDCE2303.dbc',\n",
       " 'RDDF2301.dbc',\n",
       " 'RDDF2302.dbc',\n",
       " 'RDDF2303.dbc',\n",
       " 'RDES2301.dbc',\n",
       " 'RDES2302.dbc',\n",
       " 'RDES2303.dbc',\n",
       " 'RDGO2301.dbc',\n",
       " 'RDGO2302.dbc',\n",
       " 'RDGO2303.dbc',\n",
       " 'RDMA2301.dbc',\n",
       " 'RDMA2302.dbc',\n",
       " 'RDMA2303.dbc',\n",
       " 'RDMG2301.dbc',\n",
       " 'RDMG2302.dbc',\n",
       " 'RDMG2303.dbc',\n",
       " 'RDMS2301.dbc',\n",
       " 'RDMS2302.dbc',\n",
       " 'RDMS2303.dbc',\n",
       " 'RDMT2301.dbc',\n",
       " 'RDMT2302.dbc',\n",
       " 'RDMT2303.dbc',\n",
       " 'RDPA2301.dbc',\n",
       " 'RDPA2302.dbc',\n",
       " 'RDPA2303.dbc',\n",
       " 'RDPB2301.dbc',\n",
       " 'RDPB2302.dbc',\n",
       " 'RDPB2303.dbc',\n",
       " 'RDPE2301.dbc',\n",
       " 'RDPE2302.dbc',\n",
       " 'RDPE2303.dbc',\n",
       " 'RDPI2301.dbc',\n",
       " 'RDPI2302.dbc',\n",
       " 'RDPI2303.dbc',\n",
       " 'RDPR2301.dbc',\n",
       " 'RDPR2302.dbc',\n",
       " 'RDPR2303.dbc',\n",
       " 'RDRJ2301.dbc',\n",
       " 'RDRJ2302.dbc',\n",
       " 'RDRJ2303.dbc',\n",
       " 'RDRN2301.dbc',\n",
       " 'RDRN2302.dbc',\n",
       " 'RDRN2303.dbc',\n",
       " 'RDRO2301.dbc',\n",
       " 'RDRO2302.dbc',\n",
       " 'RDRO2303.dbc',\n",
       " 'RDRR2301.dbc',\n",
       " 'RDRR2302.dbc',\n",
       " 'RDRR2303.dbc',\n",
       " 'RDRS2301.dbc',\n",
       " 'RDRS2302.dbc',\n",
       " 'RDRS2303.dbc',\n",
       " 'RDSC2301.dbc',\n",
       " 'RDSC2302.dbc',\n",
       " 'RDSC2303.dbc',\n",
       " 'RDSE2301.dbc',\n",
       " 'RDSE2302.dbc',\n",
       " 'RDSE2303.dbc',\n",
       " 'RDSP2301.dbc',\n",
       " 'RDSP2302.dbc',\n",
       " 'RDSP2303.dbc',\n",
       " 'RDTO2301.dbc',\n",
       " 'RDTO2302.dbc',\n",
       " 'RDTO2303.dbc']"
      ]
     },
     "execution_count": 36,
     "metadata": {},
     "output_type": "execute_result"
    }
   ],
   "source": [
    "## Aqui vamos passar a trabalhar com as variáveis para automatizar o processo de obtenção \n",
    "## do arquivo do Datasus criando funções\n",
    "\n",
    "def get_data_uf_ano_mes(uf, ano, mes):\n",
    "    url = f\"ftp://ftp.datasus.gov.br/dissemin/publicos/SIHSUS/200801_/Dados/RD{uf}{ano}{mes}.dbc\"\n",
    "\n",
    "    file = f\"P:/Python - Projetos/Datasus/rd/dbc/RD{uf}{ano}{mes}.dbc\"\n",
    "\n",
    "    resp = urllib.request.urlretrieve(url, file)\n",
    "\n",
    "def get_data_uf(uf, datas):\n",
    "    for i in tqdm(datas):\n",
    "        ano, mes, dia = i.split(\"-\")\n",
    "        ano = ano[-2:]\n",
    "        get_data_uf_ano_mes(uf, ano, mes)\n",
    "\n",
    "# Lista de estados Brasileiros\n",
    "ufs  = [\"AC\", \"AL\", \"AP\", \"AM\", \"BA\", \n",
    "        \"CE\", \"DF\", \"ES\", \"GO\", \"MA\", \n",
    "        \"MT\", \"MS\", \"MG\", \"PA\", \"PB\", \n",
    "        \"PR\", \"PE\", \"PI\", \"RJ\", \"RN\", \n",
    "        \"RS\", \"RO\", \"RR\", \"SC\", \"SP\", \n",
    "        \"SE\", \"TO\"]\n",
    "\n",
    "#uf =  'AC'\n",
    "datas = ['2023-01-01', '2023-02-01', '2023-03-01']\n",
    "\n",
    "for uf in ufs:\n",
    "    get_data_uf(uf, datas)\n",
    "\n",
    "# comando comentado porque quando usamos o tqdm ele já mostra o status. \n",
    "# os.listdir(\"P:/Python - Projetos/Datasus/rd/dbc/\")"
   ]
  },
  {
   "cell_type": "code",
   "execution_count": null,
   "metadata": {},
   "outputs": [],
   "source": [
    "datas = ['2023-01-01', '2023-02-01']"
   ]
  }
 ],
 "metadata": {
  "kernelspec": {
   "display_name": "Python 3",
   "language": "python",
   "name": "python3"
  },
  "language_info": {
   "codemirror_mode": {
    "name": "ipython",
    "version": 3
   },
   "file_extension": ".py",
   "mimetype": "text/x-python",
   "name": "python",
   "nbconvert_exporter": "python",
   "pygments_lexer": "ipython3",
   "version": "3.12.4"
  }
 },
 "nbformat": 4,
 "nbformat_minor": 2
}
