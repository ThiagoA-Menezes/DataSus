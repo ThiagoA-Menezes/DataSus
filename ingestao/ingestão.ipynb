{
 "cells": [
  {
   "cell_type": "markdown",
   "metadata": {},
   "source": [
    "# Começando novamente o Jupyter porque o anterior possuia um problema quando baixávamos os arquivos do datasus."
   ]
  },
  {
   "cell_type": "code",
   "execution_count": 8,
   "metadata": {},
   "outputs": [],
   "source": [
    "# Importando as bibliotecas\n",
    "# Installing libraries.\n",
    "\n",
    "import urllib.request\n",
    "import os\n"
   ]
  },
  {
   "cell_type": "code",
   "execution_count": 5,
   "metadata": {},
   "outputs": [
    {
     "data": {
      "text/plain": [
       "['.git', 'RDTO2301.dbc']"
      ]
     },
     "execution_count": 5,
     "metadata": {},
     "output_type": "execute_result"
    }
   ],
   "source": [
    "# Salvando os arquivos em um diretório local\n",
    "# Setting where the files will be saved\n",
    "# RD Siginifica que estamos pegando a lista reduzida do Datasus\n",
    "\n",
    "## Nessa primeira etapa estamos fazendo os testes para verificar se \n",
    "## conseguimos salvar o arquivo no path selecionado.\n",
    "## ao final, aqui listamos o que temos no diretório.\n",
    "\n",
    "#url = f\"ftp://ftp.datasus.gov.br/dissemin/publicos/SIHSUS/200801_/Dados/RD{uf}{ano}{mes}.dbc\"\n",
    "\n",
    "url = f\"ftp://ftp.datasus.gov.br/dissemin/publicos/SIHSUS/200801_/Dados/RDTO2301.dbc\"\n",
    "\n",
    "#file = f\"P:/Python - Projetos/Datasus/rd/dbc/RD{uf}{ano}{mes}.dbc\"\n",
    "file = f\"P:/Python - Projetos/Datasus/rd/dbc/RDTO2301.dbc\"\n",
    "\n",
    "urllib.request.urlretrieve(url, file)\n",
    "\n",
    "os.listdir(\"P:/Python - Projetos/Datasus/rd/dbc/\")"
   ]
  },
  {
   "cell_type": "code",
   "execution_count": 6,
   "metadata": {},
   "outputs": [
    {
     "ename": "NameError",
     "evalue": "name 'dbutils' is not defined",
     "output_type": "error",
     "traceback": [
      "\u001b[1;31m---------------------------------------------------------------------------\u001b[0m",
      "\u001b[1;31mNameError\u001b[0m                                 Traceback (most recent call last)",
      "Cell \u001b[1;32mIn[6], line 1\u001b[0m\n\u001b[1;32m----> 1\u001b[0m \u001b[43mdbutils\u001b[49m\u001b[38;5;241m.\u001b[39mfs\u001b[38;5;241m.\u001b[39mls(\u001b[38;5;124m\"\u001b[39m\u001b[38;5;124mP:/Python - Projetos/Datasus/rd/dbc/\u001b[39m\u001b[38;5;124m\"\u001b[39m)\n",
      "\u001b[1;31mNameError\u001b[0m: name 'dbutils' is not defined"
     ]
    }
   ],
   "source": []
  },
  {
   "cell_type": "code",
   "execution_count": null,
   "metadata": {},
   "outputs": [],
   "source": []
  }
 ],
 "metadata": {
  "kernelspec": {
   "display_name": "Python 3",
   "language": "python",
   "name": "python3"
  },
  "language_info": {
   "codemirror_mode": {
    "name": "ipython",
    "version": 3
   },
   "file_extension": ".py",
   "mimetype": "text/x-python",
   "name": "python",
   "nbconvert_exporter": "python",
   "pygments_lexer": "ipython3",
   "version": "3.12.4"
  }
 },
 "nbformat": 4,
 "nbformat_minor": 2
}
