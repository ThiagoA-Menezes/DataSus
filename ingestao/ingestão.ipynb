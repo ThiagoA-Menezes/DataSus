{
 "cells": [
  {
   "cell_type": "markdown",
   "metadata": {},
   "source": [
    "# Começando novamente o Jupyter porque o anterior possuia um problema quando baixávamos os arquivos do DataSus."
   ]
  },
  {
   "cell_type": "code",
   "execution_count": 6,
   "metadata": {},
   "outputs": [],
   "source": [
    "# Importando as bibliotecas\n",
    "# Installing libraries.\n",
    "\n",
    "import urllib.request\n",
    "import os\n",
    "from tqdm import tqdm\n",
    "from multiprocessing import Pool, TimeoutError, Process"
   ]
  },
  {
   "cell_type": "code",
   "execution_count": 7,
   "metadata": {},
   "outputs": [
    {
     "data": {
      "text/plain": [
       "['.git']"
      ]
     },
     "execution_count": 7,
     "metadata": {},
     "output_type": "execute_result"
    }
   ],
   "source": [
    "# Salvando os arquivos em um diretório local\n",
    "# Setting where the files will be saved\n",
    "# RD Siginifica que estamos pegando a lista reduzida do Datasus\n",
    "\n",
    "## Nessa primeira etapa estamos fazendo os testes para verificar se \n",
    "## conseguimos salvar o arquivo no path selecionado.\n",
    "## ao final, aqui listamos o que temos no diretório.\n",
    "\n",
    "#url = f\"ftp://ftp.datasus.gov.br/dissemin/publicos/SIHSUS/200801_/Dados/RDTO2301.dbc\"\n",
    "\n",
    "#file = f\"P:/Python - Projetos/Datasus/rd/dbc/RDTO2301.dbc\"\n",
    "\n",
    "#urllib.request.urlretrieve(url, file)\n",
    "\n",
    "os.listdir(\"P:/Python - Projetos/Datasus/rd/dbc/\")"
   ]
  },
  {
   "cell_type": "code",
   "execution_count": 8,
   "metadata": {},
   "outputs": [],
   "source": [
    "## Aqui vamos passar a trabalhar com as variáveis para automatizar o processo de obtenção \n",
    "## do arquivo do Datasus criando funções\n",
    "\n",
    "def get_data_uf_ano_mes(uf, ano, mes):\n",
    "    url = f\"ftp://ftp.datasus.gov.br/dissemin/publicos/SIHSUS/200801_/Dados/RD{uf}{ano}{mes}.dbc\"\n",
    "\n",
    "    file = f\"P:/Python - Projetos/Datasus/rd/dbc/RD{uf}{ano}{mes}.dbc\"\n",
    "\n",
    "    resp = urllib.request.urlretrieve(url, file)\n",
    "\n",
    "def get_data_uf(uf, datas):\n",
    "    for i in tqdm(datas):\n",
    "        print(f\"Processando UF: {uf} com datas {dates}\")\n",
    "        ano, mes, dia = i.split(\"-\")\n",
    "        ano = ano[-2:]\n",
    "        get_data_uf_ano_mes(uf, ano, mes)\n",
    "        return(uf, datas)\n",
    "\n",
    "# Lista de estados Brasileiros\n",
    "ufs  = [\"AC\", \"AL\", \"AP\", \"AM\", \"BA\", \n",
    "        \"CE\", \"DF\", \"ES\", \"GO\", \"MA\", \n",
    "        \"MT\", \"MS\", \"MG\", \"PA\", \"PB\", \n",
    "        \"PR\", \"PE\", \"PI\", \"RJ\", \"RN\", \n",
    "        \"RS\", \"RO\", \"RR\", \"SC\", \"SP\", \n",
    "        \"SE\", \"TO\"] \n",
    "\n",
    "#uf =  'AC'\n",
    "datas = ['2023-01-01', '2023-02-01', '2023-03-01']\n",
    "\n",
    "\n",
    "# vamos transformar esse codigo para fazer o processamento paralelo\n",
    "#for uf in ufs:\n",
    "#    get_data_uf(uf, datas)\n",
    "\n",
    "# comando comentado porque quando usamos o tqdm ele já mostra o status. \n",
    "# os.listdir(\"P:/Python - Projetos/Datasus/rd/dbc/\")"
   ]
  },
  {
   "cell_type": "code",
   "execution_count": 10,
   "metadata": {},
   "outputs": [],
   "source": [
    "data = [ (\"AC\", ['2023-01-01', '2023-02-01']),\n",
    "         (\"AP\", ['2023-01-01', '2023-02-01'])]\n",
    "\n",
    "if __name__ == '__main__':\n",
    "    with Pool(2) as pool:\n",
    "        result = pool.starmap(get_data_uf, data)\n",
    "    print(result)\n",
    "\n",
    "#def get_data_uf(uf, datas):\n",
    "#    print(f\"Processando UF: {uf} com datas {dates}\")\n"
   ]
  },
  {
   "cell_type": "code",
   "execution_count": 12,
   "metadata": {},
   "outputs": [],
   "source": [
    "import sys\n",
    "\n",
    "sys.path.insert(0, f\"P:/Python - Projetos/lib/\")"
   ]
  },
  {
   "cell_type": "code",
   "execution_count": null,
   "metadata": {},
   "outputs": [],
   "source": []
  }
 ],
 "metadata": {
  "kernelspec": {
   "display_name": "Python 3",
   "language": "python",
   "name": "python3"
  },
  "language_info": {
   "codemirror_mode": {
    "name": "ipython",
    "version": 3
   },
   "file_extension": ".py",
   "mimetype": "text/x-python",
   "name": "python",
   "nbconvert_exporter": "python",
   "pygments_lexer": "ipython3",
   "version": "3.12.4"
  }
 },
 "nbformat": 4,
 "nbformat_minor": 2
}
